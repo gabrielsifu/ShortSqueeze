{
 "cells": [
  {
   "cell_type": "code",
   "execution_count": 1,
   "id": "a08ff70d-919f-443c-bd1f-996005c1bb30",
   "metadata": {},
   "outputs": [
    {
     "name": "stderr",
     "output_type": "stream",
     "text": [
      "2024-10-17 10:28:58.288857: I tensorflow/core/platform/cpu_feature_guard.cc:210] This TensorFlow binary is optimized to use available CPU instructions in performance-critical operations.\n",
      "To enable the following instructions: AVX2 FMA, in other operations, rebuild TensorFlow with the appropriate compiler flags.\n"
     ]
    }
   ],
   "source": [
    "import joblib\n",
    "import numpy as np\n",
    "import os\n",
    "import pandas as pd\n",
    "import tensorflow as tf\n",
    "from tensorflow.keras.models import Sequential\n",
    "from tensorflow.keras.layers import Dense, Input, Dropout\n",
    "from tensorflow.keras.callbacks import EarlyStopping\n",
    "import matplotlib.pyplot as plt\n",
    "from sklearn.linear_model import LogisticRegression\n",
    "from sklearn.ensemble import RandomForestClassifier\n",
    "from lightgbm import LGBMClassifier\n",
    "from sklearn.metrics import precision_score, recall_score, f1_score, average_precision_score, classification_report\n",
    "from sklearn.utils import class_weight"
   ]
  },
  {
   "cell_type": "code",
   "execution_count": 2,
   "id": "2018adf5-313d-41b9-b64c-b3c5d71c8cb8",
   "metadata": {},
   "outputs": [],
   "source": [
    "xy_train = joblib.load('./data/xy/xy_train.joblib')"
   ]
  },
  {
   "cell_type": "code",
   "execution_count": 3,
   "id": "5fedc651-fb1a-4391-86fe-4568360564f1",
   "metadata": {},
   "outputs": [
    {
     "data": {
      "text/plain": [
       "dict_keys(['2011_2014', '2011_2015', '2011_2016', '2011_2017', '2011_2018', '2011_2019', '2011_2020', '2011_2021', '2011_2022', '2011_2023'])"
      ]
     },
     "execution_count": 3,
     "metadata": {},
     "output_type": "execute_result"
    }
   ],
   "source": [
    "xy_train.keys()"
   ]
  },
  {
   "cell_type": "code",
   "execution_count": 4,
   "id": "b783055e-17be-4bf9-8878-768c38593784",
   "metadata": {},
   "outputs": [],
   "source": [
    "xy_test = joblib.load('./data/xy/xy_test.joblib')"
   ]
  },
  {
   "cell_type": "code",
   "execution_count": 61,
   "id": "ede85d29-7d29-498b-b952-ad1194a13f73",
   "metadata": {},
   "outputs": [],
   "source": [
    "# Get train data\n",
    "data = xy_train['2011_2023']\n",
    "# Separate features and target\n",
    "x = data.drop(columns=['y'])\n",
    "y = data['y']"
   ]
  },
  {
   "cell_type": "code",
   "execution_count": 62,
   "id": "c73074de-c8c5-43ab-820e-70a268baf29c",
   "metadata": {},
   "outputs": [],
   "source": [
    "# Get test data\n",
    "data_test = xy_test[\"2011_2023\"]\n",
    "# Separate features and target\n",
    "x_test = data_test.drop(columns=['y'])\n",
    "y_test = data_test['y']"
   ]
  },
  {
   "cell_type": "code",
   "execution_count": 63,
   "id": "6b937cec-10ec-4edd-924c-7e1b8dd29dc6",
   "metadata": {},
   "outputs": [
    {
     "data": {
      "text/plain": [
       "(821894, 166)"
      ]
     },
     "execution_count": 63,
     "metadata": {},
     "output_type": "execute_result"
    }
   ],
   "source": [
    "x.shape"
   ]
  },
  {
   "cell_type": "code",
   "execution_count": 159,
   "id": "8dbc769e-4333-4d06-af3b-04e8b3871693",
   "metadata": {},
   "outputs": [],
   "source": [
    "def get_model():\n",
    "\n",
    "    model = Sequential()\n",
    "\n",
    "    model.add(Input(shape=(x.shape[1],)))\n",
    "    model.add(Dense(128, activation='relu'))\n",
    "    model.add(Dense(128, activation='relu'))\n",
    "    model.add(Dense(1, activation='sigmoid'))\n",
    "    model.compile(optimizer=tf.keras.optimizers.Adam(learning_rate=0.0005), loss='binary_crossentropy', metrics=[tf.keras.metrics.AUC()])\n",
    "\n",
    "    return model"
   ]
  },
  {
   "cell_type": "code",
   "execution_count": 160,
   "id": "d01d279a-4968-4ced-8359-40290f25768e",
   "metadata": {},
   "outputs": [],
   "source": [
    "EPOCHS = 20\n",
    "BATCH_SIZE = 10000"
   ]
  },
  {
   "cell_type": "markdown",
   "id": "39441ded-9ce5-46c5-afa5-891919e1127a",
   "metadata": {},
   "source": [
    "- Baseline model"
   ]
  },
  {
   "cell_type": "code",
   "execution_count": 161,
   "id": "4a7a8bdf-ef90-4c54-82e1-45238d19c77a",
   "metadata": {},
   "outputs": [],
   "source": [
    "model = get_model()"
   ]
  },
  {
   "cell_type": "code",
   "execution_count": 162,
   "id": "d334276d-d905-495a-b286-1187aed585cb",
   "metadata": {
    "scrolled": true
   },
   "outputs": [
    {
     "name": "stdout",
     "output_type": "stream",
     "text": [
      "Epoch 1/20\n",
      "\u001b[1m66/66\u001b[0m \u001b[32m━━━━━━━━━━━━━━━━━━━━\u001b[0m\u001b[37m\u001b[0m \u001b[1m3s\u001b[0m 25ms/step - auc_19: 0.4910 - loss: 0.3898 - val_auc_19: 0.5135 - val_loss: 0.0360\n",
      "Epoch 2/20\n",
      "\u001b[1m66/66\u001b[0m \u001b[32m━━━━━━━━━━━━━━━━━━━━\u001b[0m\u001b[37m\u001b[0m \u001b[1m1s\u001b[0m 18ms/step - auc_19: 0.5725 - loss: 0.0282 - val_auc_19: 0.5252 - val_loss: 0.0299\n",
      "Epoch 3/20\n",
      "\u001b[1m66/66\u001b[0m \u001b[32m━━━━━━━━━━━━━━━━━━━━\u001b[0m\u001b[37m\u001b[0m \u001b[1m1s\u001b[0m 18ms/step - auc_19: 0.6165 - loss: 0.0260 - val_auc_19: 0.5410 - val_loss: 0.0295\n",
      "Epoch 4/20\n",
      "\u001b[1m66/66\u001b[0m \u001b[32m━━━━━━━━━━━━━━━━━━━━\u001b[0m\u001b[37m\u001b[0m \u001b[1m1s\u001b[0m 17ms/step - auc_19: 0.6443 - loss: 0.0255 - val_auc_19: 0.5511 - val_loss: 0.0293\n",
      "Epoch 5/20\n",
      "\u001b[1m66/66\u001b[0m \u001b[32m━━━━━━━━━━━━━━━━━━━━\u001b[0m\u001b[37m\u001b[0m \u001b[1m1s\u001b[0m 18ms/step - auc_19: 0.6578 - loss: 0.0254 - val_auc_19: 0.5591 - val_loss: 0.0292\n",
      "Epoch 6/20\n",
      "\u001b[1m66/66\u001b[0m \u001b[32m━━━━━━━━━━━━━━━━━━━━\u001b[0m\u001b[37m\u001b[0m \u001b[1m1s\u001b[0m 18ms/step - auc_19: 0.6618 - loss: 0.0238 - val_auc_19: 0.5653 - val_loss: 0.0291\n",
      "Epoch 7/20\n",
      "\u001b[1m66/66\u001b[0m \u001b[32m━━━━━━━━━━━━━━━━━━━━\u001b[0m\u001b[37m\u001b[0m \u001b[1m1s\u001b[0m 18ms/step - auc_19: 0.6872 - loss: 0.0237 - val_auc_19: 0.5727 - val_loss: 0.0291\n",
      "Epoch 8/20\n",
      "\u001b[1m66/66\u001b[0m \u001b[32m━━━━━━━━━━━━━━━━━━━━\u001b[0m\u001b[37m\u001b[0m \u001b[1m1s\u001b[0m 18ms/step - auc_19: 0.6884 - loss: 0.0243 - val_auc_19: 0.5733 - val_loss: 0.0290\n",
      "Epoch 9/20\n",
      "\u001b[1m66/66\u001b[0m \u001b[32m━━━━━━━━━━━━━━━━━━━━\u001b[0m\u001b[37m\u001b[0m \u001b[1m1s\u001b[0m 20ms/step - auc_19: 0.6945 - loss: 0.0231 - val_auc_19: 0.5776 - val_loss: 0.0290\n",
      "Epoch 10/20\n",
      "\u001b[1m66/66\u001b[0m \u001b[32m━━━━━━━━━━━━━━━━━━━━\u001b[0m\u001b[37m\u001b[0m \u001b[1m1s\u001b[0m 19ms/step - auc_19: 0.7020 - loss: 0.0231 - val_auc_19: 0.5773 - val_loss: 0.0290\n",
      "Epoch 11/20\n",
      "\u001b[1m66/66\u001b[0m \u001b[32m━━━━━━━━━━━━━━━━━━━━\u001b[0m\u001b[37m\u001b[0m \u001b[1m1s\u001b[0m 18ms/step - auc_19: 0.7151 - loss: 0.0225 - val_auc_19: 0.5794 - val_loss: 0.0289\n",
      "Epoch 12/20\n",
      "\u001b[1m66/66\u001b[0m \u001b[32m━━━━━━━━━━━━━━━━━━━━\u001b[0m\u001b[37m\u001b[0m \u001b[1m1s\u001b[0m 18ms/step - auc_19: 0.7269 - loss: 0.0224 - val_auc_19: 0.5818 - val_loss: 0.0289\n",
      "Epoch 13/20\n",
      "\u001b[1m66/66\u001b[0m \u001b[32m━━━━━━━━━━━━━━━━━━━━\u001b[0m\u001b[37m\u001b[0m \u001b[1m1s\u001b[0m 18ms/step - auc_19: 0.7242 - loss: 0.0229 - val_auc_19: 0.5798 - val_loss: 0.0289\n",
      "Epoch 14/20\n",
      "\u001b[1m66/66\u001b[0m \u001b[32m━━━━━━━━━━━━━━━━━━━━\u001b[0m\u001b[37m\u001b[0m \u001b[1m1s\u001b[0m 17ms/step - auc_19: 0.7253 - loss: 0.0225 - val_auc_19: 0.5794 - val_loss: 0.0289\n",
      "Epoch 15/20\n",
      "\u001b[1m66/66\u001b[0m \u001b[32m━━━━━━━━━━━━━━━━━━━━\u001b[0m\u001b[37m\u001b[0m \u001b[1m1s\u001b[0m 18ms/step - auc_19: 0.7347 - loss: 0.0225 - val_auc_19: 0.5809 - val_loss: 0.0289\n",
      "Epoch 16/20\n",
      "\u001b[1m66/66\u001b[0m \u001b[32m━━━━━━━━━━━━━━━━━━━━\u001b[0m\u001b[37m\u001b[0m \u001b[1m1s\u001b[0m 18ms/step - auc_19: 0.7336 - loss: 0.0225 - val_auc_19: 0.5826 - val_loss: 0.0289\n",
      "Epoch 17/20\n",
      "\u001b[1m66/66\u001b[0m \u001b[32m━━━━━━━━━━━━━━━━━━━━\u001b[0m\u001b[37m\u001b[0m \u001b[1m1s\u001b[0m 17ms/step - auc_19: 0.7444 - loss: 0.0224 - val_auc_19: 0.5795 - val_loss: 0.0290\n",
      "Epoch 18/20\n",
      "\u001b[1m66/66\u001b[0m \u001b[32m━━━━━━━━━━━━━━━━━━━━\u001b[0m\u001b[37m\u001b[0m \u001b[1m1s\u001b[0m 18ms/step - auc_19: 0.7489 - loss: 0.0217 - val_auc_19: 0.5772 - val_loss: 0.0289\n",
      "Epoch 19/20\n",
      "\u001b[1m66/66\u001b[0m \u001b[32m━━━━━━━━━━━━━━━━━━━━\u001b[0m\u001b[37m\u001b[0m \u001b[1m1s\u001b[0m 18ms/step - auc_19: 0.7452 - loss: 0.0222 - val_auc_19: 0.5803 - val_loss: 0.0289\n",
      "Epoch 20/20\n",
      "\u001b[1m66/66\u001b[0m \u001b[32m━━━━━━━━━━━━━━━━━━━━\u001b[0m\u001b[37m\u001b[0m \u001b[1m1s\u001b[0m 18ms/step - auc_19: 0.7501 - loss: 0.0217 - val_auc_19: 0.5787 - val_loss: 0.0289\n"
     ]
    },
    {
     "data": {
      "text/plain": [
       "<keras.src.callbacks.history.History at 0x14430e090>"
      ]
     },
     "execution_count": 162,
     "metadata": {},
     "output_type": "execute_result"
    }
   ],
   "source": [
    "model.fit(\n",
    "        x,\n",
    "        y,\n",
    "        epochs=EPOCHS,\n",
    "        batch_size=BATCH_SIZE,\n",
    "        validation_split=0.2,\n",
    "        verbose=1\n",
    ")"
   ]
  },
  {
   "cell_type": "code",
   "execution_count": 163,
   "id": "9840db4b-6349-473d-8879-65d720c4e0fc",
   "metadata": {},
   "outputs": [
    {
     "name": "stdout",
     "output_type": "stream",
     "text": [
      "\u001b[1m2248/2248\u001b[0m \u001b[32m━━━━━━━━━━━━━━━━━━━━\u001b[0m\u001b[37m\u001b[0m \u001b[1m2s\u001b[0m 698us/step\n"
     ]
    }
   ],
   "source": [
    "y_pred = model.predict(x_test)"
   ]
  },
  {
   "cell_type": "code",
   "execution_count": 164,
   "id": "f97ba4b7-475d-4f3c-a4eb-1ce9a7347355",
   "metadata": {},
   "outputs": [
    {
     "data": {
      "text/plain": [
       "(array([0.14740434], dtype=float32), array([1.046495e-07], dtype=float32))"
      ]
     },
     "execution_count": 164,
     "metadata": {},
     "output_type": "execute_result"
    }
   ],
   "source": [
    "max(y_pred), min(y_pred)"
   ]
  },
  {
   "cell_type": "code",
   "execution_count": 165,
   "id": "c6054262-d71d-4167-80bb-b1b2df90d76f",
   "metadata": {},
   "outputs": [
    {
     "data": {
      "text/plain": [
       "Text(0.5, 1.0, 'Distribuicao Scores - Classe 0 vs Classe 1')"
      ]
     },
     "execution_count": 165,
     "metadata": {},
     "output_type": "execute_result"
    },
    {
     "data": {
      "image/png": "[encoded data removed]",
      "text/plain": [
       "<Figure size 1000x500 with 1 Axes>"
      ]
     },
     "metadata": {},
     "output_type": "display_data"
    }
   ],
   "source": [
    "fix, ax = plt.subplots(figsize=(10, 5))\n",
    "_=plt.hist(y_pred[y_test==0], color=\"b\", alpha=0.2, bins=50, log=True)\n",
    "_=plt.hist(y_pred[y_test==1], color=\"r\", alpha=0.2, bins=50, log=True)\n",
    "ax.set_title(\"Distribuicao Scores - Classe 0 vs Classe 1\")"
   ]
  },
  {
   "cell_type": "code",
   "execution_count": 166,
   "id": "ad287115-73e0-4948-bc43-1b67e15f352e",
   "metadata": {},
   "outputs": [],
   "source": [
    "threshold = 0.001"
   ]
  },
  {
   "cell_type": "code",
   "execution_count": 167,
   "id": "305eac8f-c311-4819-8f85-bfde5e320274",
   "metadata": {},
   "outputs": [
    {
     "name": "stdout",
     "output_type": "stream",
     "text": [
      "              precision    recall  f1-score   support\n",
      "\n",
      "           0       1.00      0.44      0.61     71660\n",
      "           1       0.00      0.72      0.01       265\n",
      "\n",
      "    accuracy                           0.44     71925\n",
      "   macro avg       0.50      0.58      0.31     71925\n",
      "weighted avg       0.99      0.44      0.61     71925\n",
      "\n"
     ]
    }
   ],
   "source": [
    "print(classification_report(y_test, np.where(y_pred>=threshold, 1, 0)))"
   ]
  },
  {
   "cell_type": "code",
   "execution_count": 168,
   "id": "b89828ff-a776-4e57-ac88-c0c6c6d27ae6",
   "metadata": {},
   "outputs": [
    {
     "name": "stdout",
     "output_type": "stream",
     "text": [
      "PR-AUC: 0.005254935458222385\n"
     ]
    }
   ],
   "source": [
    "print(f\"PR-AUC: {average_precision_score(y_test, y_pred)}\")"
   ]
  },
  {
   "cell_type": "markdown",
   "id": "4cabd17a-a030-4759-aeac-051052c2987d",
   "metadata": {},
   "source": [
    "- Using class weights"
   ]
  },
  {
   "cell_type": "code",
   "execution_count": 169,
   "id": "2ee7e343-2b3f-40e9-a3f7-c51dd3204c2c",
   "metadata": {},
   "outputs": [],
   "source": [
    "class_weights = class_weight.compute_class_weight('balanced', classes=np.unique(y), y=y)"
   ]
  },
  {
   "cell_type": "code",
   "execution_count": 170,
   "id": "e7966c08-5209-4ff2-a517-9e803adf0810",
   "metadata": {},
   "outputs": [
    {
     "data": {
      "text/plain": [
       "{0: 0.5020064524089034, 1: 125.09802130898021}"
      ]
     },
     "execution_count": 170,
     "metadata": {},
     "output_type": "execute_result"
    }
   ],
   "source": [
    "class_weights_dict = {k:v for k, v in zip([0, 1], class_weights)}\n",
    "class_weights_dict"
   ]
  },
  {
   "cell_type": "code",
   "execution_count": 171,
   "id": "6a16cb43-ac9e-434d-9ed0-9ba6b3750181",
   "metadata": {},
   "outputs": [],
   "source": [
    "model = get_model()"
   ]
  },
  {
   "cell_type": "code",
   "execution_count": 172,
   "id": "892a1b0f-7ab8-49a2-b1f8-c469b17b6689",
   "metadata": {
    "scrolled": true
   },
   "outputs": [
    {
     "name": "stderr",
     "output_type": "stream",
     "text": [
      "/Users/lucasdeangelisoliveira/Documents/master/1o semestre/prob e estat/env_short_squeeze/lib/python3.12/site-packages/keras/src/trainers/data_adapters/data_adapter_utils.py:126: FutureWarning: Series.__getitem__ treating keys as positions is deprecated. In a future version, integer keys will always be treated as labels (consistent with DataFrame behavior). To access a value by position, use `ser.iloc[pos]`\n",
      "  sample_weight[i] = class_weight.get(int(y[i]), 1.0)\n"
     ]
    },
    {
     "name": "stdout",
     "output_type": "stream",
     "text": [
      "Epoch 1/20\n",
      "\u001b[1m66/66\u001b[0m \u001b[32m━━━━━━━━━━━━━━━━━━━━\u001b[0m\u001b[37m\u001b[0m \u001b[1m2s\u001b[0m 22ms/step - auc_20: 0.6249 - loss: 0.6582 - val_auc_20: 0.6115 - val_loss: 0.6030\n",
      "Epoch 2/20\n",
      "\u001b[1m66/66\u001b[0m \u001b[32m━━━━━━━━━━━━━━━━━━━━\u001b[0m\u001b[37m\u001b[0m \u001b[1m1s\u001b[0m 18ms/step - auc_20: 0.7495 - loss: 0.5787 - val_auc_20: 0.6609 - val_loss: 0.5367\n",
      "Epoch 3/20\n",
      "\u001b[1m66/66\u001b[0m \u001b[32m━━━━━━━━━━━━━━━━━━━━\u001b[0m\u001b[37m\u001b[0m \u001b[1m1s\u001b[0m 18ms/step - auc_20: 0.7928 - loss: 0.5549 - val_auc_20: 0.6777 - val_loss: 0.5601\n",
      "Epoch 4/20\n",
      "\u001b[1m66/66\u001b[0m \u001b[32m━━━━━━━━━━━━━━━━━━━━\u001b[0m\u001b[37m\u001b[0m \u001b[1m1s\u001b[0m 18ms/step - auc_20: 0.8162 - loss: 0.5211 - val_auc_20: 0.6834 - val_loss: 0.5214\n",
      "Epoch 5/20\n",
      "\u001b[1m66/66\u001b[0m \u001b[32m━━━━━━━━━━━━━━━━━━━━\u001b[0m\u001b[37m\u001b[0m \u001b[1m1s\u001b[0m 18ms/step - auc_20: 0.8260 - loss: 0.5103 - val_auc_20: 0.6784 - val_loss: 0.4753\n",
      "Epoch 6/20\n",
      "\u001b[1m66/66\u001b[0m \u001b[32m━━━━━━━━━━━━━━━━━━━━\u001b[0m\u001b[37m\u001b[0m \u001b[1m1s\u001b[0m 19ms/step - auc_20: 0.8463 - loss: 0.4848 - val_auc_20: 0.6819 - val_loss: 0.5245\n",
      "Epoch 7/20\n",
      "\u001b[1m66/66\u001b[0m \u001b[32m━━━━━━━━━━━━━━━━━━━━\u001b[0m\u001b[37m\u001b[0m \u001b[1m1s\u001b[0m 18ms/step - auc_20: 0.8590 - loss: 0.4675 - val_auc_20: 0.6778 - val_loss: 0.5058\n",
      "Epoch 8/20\n",
      "\u001b[1m66/66\u001b[0m \u001b[32m━━━━━━━━━━━━━━━━━━━━\u001b[0m\u001b[37m\u001b[0m \u001b[1m1s\u001b[0m 19ms/step - auc_20: 0.8636 - loss: 0.4608 - val_auc_20: 0.6725 - val_loss: 0.4487\n",
      "Epoch 9/20\n",
      "\u001b[1m66/66\u001b[0m \u001b[32m━━━━━━━━━━━━━━━━━━━━\u001b[0m\u001b[37m\u001b[0m \u001b[1m1s\u001b[0m 20ms/step - auc_20: 0.8725 - loss: 0.4471 - val_auc_20: 0.6650 - val_loss: 0.4686\n",
      "Epoch 10/20\n",
      "\u001b[1m66/66\u001b[0m \u001b[32m━━━━━━━━━━━━━━━━━━━━\u001b[0m\u001b[37m\u001b[0m \u001b[1m1s\u001b[0m 19ms/step - auc_20: 0.8789 - loss: 0.4401 - val_auc_20: 0.6663 - val_loss: 0.4653\n",
      "Epoch 11/20\n",
      "\u001b[1m66/66\u001b[0m \u001b[32m━━━━━━━━━━━━━━━━━━━━\u001b[0m\u001b[37m\u001b[0m \u001b[1m1s\u001b[0m 19ms/step - auc_20: 0.8947 - loss: 0.4075 - val_auc_20: 0.6698 - val_loss: 0.4411\n",
      "Epoch 12/20\n",
      "\u001b[1m66/66\u001b[0m \u001b[32m━━━━━━━━━━━━━━━━━━━━\u001b[0m\u001b[37m\u001b[0m \u001b[1m1s\u001b[0m 18ms/step - auc_20: 0.9017 - loss: 0.3917 - val_auc_20: 0.6571 - val_loss: 0.4713\n",
      "Epoch 13/20\n",
      "\u001b[1m66/66\u001b[0m \u001b[32m━━━━━━━━━━━━━━━━━━━━\u001b[0m\u001b[37m\u001b[0m \u001b[1m1s\u001b[0m 19ms/step - auc_20: 0.9095 - loss: 0.3875 - val_auc_20: 0.6540 - val_loss: 0.3984\n",
      "Epoch 14/20\n",
      "\u001b[1m66/66\u001b[0m \u001b[32m━━━━━━━━━━━━━━━━━━━━\u001b[0m\u001b[37m\u001b[0m \u001b[1m1s\u001b[0m 18ms/step - auc_20: 0.9163 - loss: 0.3738 - val_auc_20: 0.6581 - val_loss: 0.4439\n",
      "Epoch 15/20\n",
      "\u001b[1m66/66\u001b[0m \u001b[32m━━━━━━━━━━━━━━━━━━━━\u001b[0m\u001b[37m\u001b[0m \u001b[1m1s\u001b[0m 19ms/step - auc_20: 0.9219 - loss: 0.3562 - val_auc_20: 0.6596 - val_loss: 0.4056\n",
      "Epoch 16/20\n",
      "\u001b[1m66/66\u001b[0m \u001b[32m━━━━━━━━━━━━━━━━━━━━\u001b[0m\u001b[37m\u001b[0m \u001b[1m1s\u001b[0m 19ms/step - auc_20: 0.9306 - loss: 0.3452 - val_auc_20: 0.6545 - val_loss: 0.4234\n",
      "Epoch 17/20\n",
      "\u001b[1m66/66\u001b[0m \u001b[32m━━━━━━━━━━━━━━━━━━━━\u001b[0m\u001b[37m\u001b[0m \u001b[1m1s\u001b[0m 19ms/step - auc_20: 0.9342 - loss: 0.3331 - val_auc_20: 0.6491 - val_loss: 0.3963\n",
      "Epoch 18/20\n",
      "\u001b[1m66/66\u001b[0m \u001b[32m━━━━━━━━━━━━━━━━━━━━\u001b[0m\u001b[37m\u001b[0m \u001b[1m1s\u001b[0m 19ms/step - auc_20: 0.9359 - loss: 0.3264 - val_auc_20: 0.6548 - val_loss: 0.3385\n",
      "Epoch 19/20\n",
      "\u001b[1m66/66\u001b[0m \u001b[32m━━━━━━━━━━━━━━━━━━━━\u001b[0m\u001b[37m\u001b[0m \u001b[1m1s\u001b[0m 19ms/step - auc_20: 0.9436 - loss: 0.3036 - val_auc_20: 0.6490 - val_loss: 0.4038\n",
      "Epoch 20/20\n",
      "\u001b[1m66/66\u001b[0m \u001b[32m━━━━━━━━━━━━━━━━━━━━\u001b[0m\u001b[37m\u001b[0m \u001b[1m1s\u001b[0m 19ms/step - auc_20: 0.9486 - loss: 0.2876 - val_auc_20: 0.6448 - val_loss: 0.4447\n"
     ]
    },
    {
     "data": {
      "text/plain": [
       "<keras.src.callbacks.history.History at 0x144e3cd10>"
      ]
     },
     "execution_count": 172,
     "metadata": {},
     "output_type": "execute_result"
    }
   ],
   "source": [
    "model.fit(\n",
    "        x,\n",
    "        y,\n",
    "        epochs=EPOCHS,\n",
    "        batch_size=BATCH_SIZE,\n",
    "        validation_split=0.2,\n",
    "        verbose=1,\n",
    "        class_weight=class_weights_dict\n",
    ")"
   ]
  },
  {
   "cell_type": "code",
   "execution_count": 173,
   "id": "f53cc5a9-2a77-4016-bf1e-a831fb1ed2a3",
   "metadata": {},
   "outputs": [
    {
     "name": "stdout",
     "output_type": "stream",
     "text": [
      "\u001b[1m2248/2248\u001b[0m \u001b[32m━━━━━━━━━━━━━━━━━━━━\u001b[0m\u001b[37m\u001b[0m \u001b[1m2s\u001b[0m 708us/step\n"
     ]
    }
   ],
   "source": [
    "y_pred = model.predict(x_test)"
   ]
  },
  {
   "cell_type": "code",
   "execution_count": 174,
   "id": "8333a0a2-bffd-4aae-ae73-c8f289605a44",
   "metadata": {},
   "outputs": [
    {
     "data": {
      "text/plain": [
       "Text(0.5, 1.0, 'Distribuicao Scores - Classe 0 vs Classe 1')"
      ]
     },
     "execution_count": 174,
     "metadata": {},
     "output_type": "execute_result"
    },
    {
     "data": {
      "image/png": "[encoded data removed]",
      "text/plain": [
       "<Figure size 1000x500 with 1 Axes>"
      ]
     },
     "metadata": {},
     "output_type": "display_data"
    }
   ],
   "source": [
    "fix, ax = plt.subplots(figsize=(10, 5))\n",
    "_=plt.hist(y_pred[y_test==0], color=\"b\", alpha=0.2, bins=50, log=True)\n",
    "_=plt.hist(y_pred[y_test==1], color=\"r\", alpha=0.2, bins=50, log=True)\n",
    "ax.set_title(\"Distribuicao Scores - Classe 0 vs Classe 1\")"
   ]
  },
  {
   "cell_type": "code",
   "execution_count": 184,
   "id": "49e12738-039a-4a05-8df0-007853b2cd49",
   "metadata": {},
   "outputs": [],
   "source": [
    "threshold = 0.001"
   ]
  },
  {
   "cell_type": "code",
   "execution_count": 185,
   "id": "291447c6-56a3-4e98-a8af-b7f9ed416850",
   "metadata": {},
   "outputs": [
    {
     "name": "stdout",
     "output_type": "stream",
     "text": [
      "              precision    recall  f1-score   support\n",
      "\n",
      "           0       1.00      0.07      0.13     71660\n",
      "           1       0.00      0.99      0.01       265\n",
      "\n",
      "    accuracy                           0.07     71925\n",
      "   macro avg       0.50      0.53      0.07     71925\n",
      "weighted avg       1.00      0.07      0.13     71925\n",
      "\n"
     ]
    }
   ],
   "source": [
    "print(classification_report(y_test, np.where(y_pred>=threshold, 1, 0)))"
   ]
  },
  {
   "cell_type": "code",
   "execution_count": 186,
   "id": "0d0bf984-a74b-4e13-b241-b56d20473e16",
   "metadata": {},
   "outputs": [
    {
     "name": "stdout",
     "output_type": "stream",
     "text": [
      "PR-AUC: 0.00456734412596931\n"
     ]
    }
   ],
   "source": [
    "print(f\"PR-AUC: {average_precision_score(y_test, y_pred)}\")"
   ]
  },
  {
   "cell_type": "code",
   "execution_count": null,
   "id": "90c5f4f9-e94a-44f0-bdae-f0f89160f84d",
   "metadata": {},
   "outputs": [],
   "source": []
  }
 ],
 "metadata": {
  "kernelspec": {
   "display_name": "env_short_squeeze",
   "language": "python",
   "name": "env_short_squeeze"
  },
  "language_info": {
   "codemirror_mode": {
    "name": "ipython",
    "version": 3
   },
   "file_extension": ".py",
   "mimetype": "text/x-python",
   "name": "python",
   "nbconvert_exporter": "python",
   "pygments_lexer": "ipython3",
   "version": "3.12.6"
  }
 },
 "nbformat": 4,
 "nbformat_minor": 5
}
